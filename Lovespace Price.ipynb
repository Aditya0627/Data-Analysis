{
 "cells": [
  {
   "cell_type": "markdown",
   "metadata": {},
   "source": [
    "# Let's Start"
   ]
  },
  {
   "cell_type": "raw",
   "metadata": {},
   "source": [
    "Let's have a look onto our examples:\n",
    "*Journey time & miles between:\n",
    "\n",
    "2 Ritchings Avenue, LONDON, E17 6LB to 79 Newman Street, LONDON, W1T 3ER - 45 minutes & 8.4 miles\n",
    "2 Ritchings Avenue, LONDON, E17 6LB to Whiting Avenue, BARKING, IG11 8JR - 23 minutes & 8.8 miles\n",
    "2 Ritchings Avenue, LONDON, E17 6LB to 93 HIGH ROAD, EAST FINCHLEY, LONDON, N2 8AG - 31 minutes & 6.4 miles"
   ]
  },
  {
   "cell_type": "raw",
   "metadata": {},
   "source": [
    "example 1:\n",
    "\n",
    "time = 45 minutes\n",
    "\n",
    "distance = 8.4 miles\n",
    "\n",
    "Since, Lovespace charges 5.95 euro for a box which is to be delivered between the distance range upto 25 miles\n",
    "\n",
    "we have formula to calculate the fine price:\n",
    "\n",
    "Final price = Base Fare(minimum) + (Cost per minute * time in ride) + (Cost per mile * ride distance)\n",
    "\n",
    "for minimum base fare:\n",
    "assume distance = 0m\n",
    "time= 0s\n",
    "so,\n",
    "in this case, the total price will be equal to the base price."
   ]
  },
  {
   "cell_type": "code",
   "execution_count": 3,
   "metadata": {},
   "outputs": [],
   "source": [
    "'''\n",
    "Let's have a look onto our examples:\n",
    "*Journey time & miles between:\n",
    "\n",
    "2 Ritchings Avenue, LONDON, E17 6LB to 79 Newman Street, LONDON, W1T 3ER - 45 minutes & 8.4 miles\n",
    "2 Ritchings Avenue, LONDON, E17 6LB to Whiting Avenue, BARKING, IG11 8JR - 23 minutes & 8.8 miles\n",
    "2 Ritchings Avenue, LONDON, E17 6LB to 93 HIGH ROAD, EAST FINCHLEY, LONDON, N2 8AG - 31 minutes & 6.4 miles\n",
    "\n",
    "'''\n",
    "\n",
    "\n",
    "\n",
    "\n",
    "import math\n",
    "import pandas as pd\n",
    "import matplotlib.pyplot as plt"
   ]
  },
  {
   "cell_type": "code",
   "execution_count": 4,
   "metadata": {},
   "outputs": [
    {
     "data": {
      "text/plain": [
       "'\\nexample 1:\\n\\ntime = 45 minutes\\n\\ndistance = 8.4 miles\\n\\nSince, Lovespace charges 5.95 euro for a box which is to be delivered between the distance range upto 25 miles\\n\\nwe have formula to calculate the fine price:\\n\\nFinal price = Base Fare(minimum) + (Cost per minute * time in ride) + (Cost per mile * ride distance)\\n\\nfor minimum base fare:\\nassume distance = 0m\\ntime= 0s\\nso,\\nin this case, the total price will be equal to the base price.\\n'"
      ]
     },
     "execution_count": 4,
     "metadata": {},
     "output_type": "execute_result"
    }
   ],
   "source": [
    "'''\n",
    "example 1:\n",
    "\n",
    "time = 45 minutes\n",
    "\n",
    "distance = 8.4 miles\n",
    "\n",
    "Since, Lovespace charges 5.95 euro for a box which is to be delivered between the distance range upto 25 miles\n",
    "\n",
    "we have formula to calculate the fine price:\n",
    "\n",
    "Final price = Base Fare(minimum) + (Cost per minute * time in ride) + (Cost per mile * ride distance)\n",
    "\n",
    "for minimum base fare:\n",
    "assume distance = 0m\n",
    "time= 0s\n",
    "so,\n",
    "in this case, the total price will be equal to the base price.\n",
    "'''"
   ]
  },
  {
   "cell_type": "code",
   "execution_count": 2,
   "metadata": {},
   "outputs": [
    {
     "name": "stdout",
     "output_type": "stream",
     "text": [
      "since the minimum base price is equal to the total price when distance is 0 and time taken is 0\n",
      "in case first, distance is 8.4 miles and time taken is 45 minutes for a box, cost = 5.95 Euro\n"
     ]
    }
   ],
   "source": [
    "print(\"since the minimum base price is equal to the total price when distance is 0 and time taken is 0\")\n",
    "print(\"in case first, distance is 8.4 miles and time taken is 45 minutes for a box, cost = \"+str(0+5.95+0)+\" Euro\")"
   ]
  },
  {
   "cell_type": "code",
   "execution_count": 2,
   "metadata": {},
   "outputs": [
    {
     "data": {
      "text/plain": [
       "'\\nNow, if the it is not box we have to deliever than we have three cases:\\n\\ncase 1: \\nstorage:\\n3’x4′ unit costs £79/month\\n\\ncollection cost = 3’x4′ unit costs £85\\n\\ndelivery:\\n5.85 Euro\\n\\nFinal fare based on Volume and weight( Small van) = Base Fare(minimum) + (Cost per minute * time in ride) + (Cost per mile * ride distance)\\nCost of mile = 3.5*25 = 85 (upto 25 miles)\\ncost per time = 0 Euro\\n'"
      ]
     },
     "execution_count": 2,
     "metadata": {},
     "output_type": "execute_result"
    }
   ],
   "source": [
    "'''\n",
    "Now, if the it is not box we have to deliever than we have three cases:\n",
    "\n",
    "case 1: \n",
    "storage:\n",
    "3’x4′ unit costs £79/month\n",
    "\n",
    "collection cost = 3’x4′ unit costs £85\n",
    "\n",
    "delivery:\n",
    "5.85 Euro\n",
    "\n",
    "Final fare based on Volume and weight( Small van) = Base Fare(minimum) + (Cost per minute * time in ride) + (Cost per mile * ride distance)\n",
    "Cost of mile = 3.5*25 = 85 (upto 25 miles)\n",
    "cost per time = 0 Euro\n",
    "'''"
   ]
  },
  {
   "cell_type": "raw",
   "metadata": {},
   "source": [
    "Now, if the it is not box we have to deliever than we have three cases:\n",
    "\n",
    "case 1: \n",
    "storage:\n",
    "3’x4′ unit costs £79/month\n",
    "\n",
    "collection cost = 3’x4′ unit costs £85\n",
    "\n",
    "delivery:\n",
    "5.85 Euro\n",
    "\n",
    "Final fare based on Volume and weight( Small van) = Base Fare(minimum) + (Cost per minute * time in ride) + (Cost per mile * ride distance)\n",
    "Cost of mile = 3.5*25 = 85 (upto 25 miles)\n",
    "cost per time = 0 Euro"
   ]
  },
  {
   "cell_type": "code",
   "execution_count": 13,
   "metadata": {},
   "outputs": [
    {
     "name": "stdout",
     "output_type": "stream",
     "text": [
      "total fare will be cost per mile * total distance + delievery charges\n",
      "Total = 226.95 Euro\n"
     ]
    }
   ],
   "source": [
    "print(\"total fare will be cost per mile * total distance + delievery charges\")\n",
    "print(\"Total = \" +str(85+79+50+12.95)+\" Euro\")"
   ]
  },
  {
   "cell_type": "code",
   "execution_count": 9,
   "metadata": {},
   "outputs": [
    {
     "name": "stdout",
     "output_type": "stream",
     "text": [
      "Collection + Storage + Delievery\n",
      "if there is collection and storage then the price distribution is given by this bar chart:\n"
     ]
    },
    {
     "data": {
      "text/plain": [
       "<matplotlib.axes._subplots.AxesSubplot at 0x28d3bc5ad30>"
      ]
     },
     "execution_count": 9,
     "metadata": {},
     "output_type": "execute_result"
    },
    {
     "data": {
      "image/png": "[encoded data removed]",
      "text/plain": [
       "<Figure size 432x288 with 1 Axes>"
      ]
     },
     "metadata": {
      "needs_background": "light"
     },
     "output_type": "display_data"
    }
   ],
   "source": [
    "print(\"Collection + Storage + Delievery\")\n",
    "print(\"if there is collection and storage then the price distribution is given by this bar chart:\")\n",
    "df = pd.DataFrame([['Lovespace', 85,79,50, 12.95]],columns=['Cost distribution', 'collection', 'Storage', 'Booking fee', 'coverage fee'])\n",
    "df.plot(x='Cost distribution', kind='bar', stacked=True,\n",
    "        title='Stacked Bar Graph by dataframe')"
   ]
  },
  {
   "cell_type": "raw",
   "metadata": {},
   "source": [
    "case 2:\n",
    "6’x4’ unit costs £99/month\n",
    "\n",
    "collection cost = 6’x4’ unit costs £85\n",
    "\n",
    "delivery:\n",
    "5.85 Euro\n",
    "\n",
    "Final fare based on Volume and weight( Small van) = Base Fare(minimum) + (Cost per minute * time in ride) + (Cost per mile * ride distance)\n",
    "Cost of mile = 3.5*25 = 85 (upto 25 miles)\n",
    "cost per time = 0 Euro"
   ]
  },
  {
   "cell_type": "code",
   "execution_count": 5,
   "metadata": {},
   "outputs": [
    {
     "name": "stdout",
     "output_type": "stream",
     "text": [
      "Total = 246.95 Euro\n"
     ]
    }
   ],
   "source": [
    "'''\n",
    "case 2:\n",
    "6’x4’ unit costs £99/month\n",
    "\n",
    "collection cost = 6’x4’ unit costs £85\n",
    "\n",
    "delivery:\n",
    "5.85 Euro\n",
    "\n",
    "Final fare based on Volume and weight( Small van) = Base Fare(minimum) + (Cost per minute * time in ride) + (Cost per mile * ride distance)\n",
    "Cost of mile = 3.5*25 = 85 (upto 25 miles)\n",
    "cost per time = 0 Euro\n",
    "'''\n",
    "\n",
    "\n",
    "\n",
    "\n",
    "print(\"Total = \" +str(85+99+50+12.95)+\" Euro\")"
   ]
  },
  {
   "cell_type": "code",
   "execution_count": 10,
   "metadata": {},
   "outputs": [
    {
     "name": "stdout",
     "output_type": "stream",
     "text": [
      "Collection + Storage + Delievery\n",
      "if there is collection and storage then the price distribution is given by this bar chart:\n"
     ]
    },
    {
     "data": {
      "text/plain": [
       "<matplotlib.axes._subplots.AxesSubplot at 0x28d3bcc6e50>"
      ]
     },
     "execution_count": 10,
     "metadata": {},
     "output_type": "execute_result"
    },
    {
     "data": {
      "image/png": "[encoded data removed]",
      "text/plain": [
       "<Figure size 432x288 with 1 Axes>"
      ]
     },
     "metadata": {
      "needs_background": "light"
     },
     "output_type": "display_data"
    }
   ],
   "source": [
    "print(\"Collection + Storage + Delievery\")\n",
    "print(\"if there is collection and storage then the price distribution is given by this bar chart:\")\n",
    "df = pd.DataFrame([['Lovespace', 85,99,50, 12.95]],columns=['Cost distribution', 'collection', 'Storage', 'Booking fee', 'coverage fee'])\n",
    "df.plot(x='Cost distribution', kind='bar', stacked=True,\n",
    "        title='Stacked Bar Graph by dataframe')"
   ]
  },
  {
   "cell_type": "raw",
   "metadata": {},
   "source": [
    "case 3:\n",
    "\n",
    "storage:\n",
    "8’x6’ unit costs £189/month\n",
    "\n",
    "collection cost = 8’x6’′ unit costs £127.50\n",
    "\n",
    "delivery:\n",
    "5.85 Euro\n",
    "\n",
    "Final fare based on Volume and weight( Small van) = Base Fare(minimum) + (Cost per minute * time in ride) + (Cost per mile * ride distance)\n",
    "Cost of mile = 5.1*25 = 127.50 (upto 25 miles)\n",
    "cost per time = 0 Euro"
   ]
  },
  {
   "cell_type": "code",
   "execution_count": 6,
   "metadata": {},
   "outputs": [
    {
     "data": {
      "text/plain": [
       "'\\ncase 3:\\n\\nstorage:\\n8’x6’ unit costs £189/month\\n\\ncollection cost = 8’x6’′ unit costs £127.50\\n\\ndelivery:\\n5.85 Euro\\n\\nFinal fare based on Volume and weight( Small van) = Base Fare(minimum) + (Cost per minute * time in ride) + (Cost per mile * ride distance)\\nCost of mile = 5.1*25 = 127.50 (upto 25 miles)\\ncost per time = 0 Euro\\n'"
      ]
     },
     "execution_count": 6,
     "metadata": {},
     "output_type": "execute_result"
    }
   ],
   "source": [
    "'''\n",
    "case 3:\n",
    "\n",
    "storage:\n",
    "8’x6’ unit costs £189/month\n",
    "\n",
    "collection cost = 8’x6’′ unit costs £127.50\n",
    "\n",
    "delivery:\n",
    "5.85 Euro\n",
    "\n",
    "Final fare based on Volume and weight( Small van) = Base Fare(minimum) + (Cost per minute * time in ride) + (Cost per mile * ride distance)\n",
    "Cost of mile = 5.1*25 = 127.50 (upto 25 miles)\n",
    "cost per time = 0 Euro\n",
    "'''"
   ]
  },
  {
   "cell_type": "code",
   "execution_count": 14,
   "metadata": {},
   "outputs": [
    {
     "name": "stdout",
     "output_type": "stream",
     "text": [
      "total fare will be cost per mile * total distance + delievery charges\n",
      "Total = 379.45 Euro\n"
     ]
    }
   ],
   "source": [
    "print(\"total fare will be cost per mile * total distance + delievery charges\")\n",
    "print(\"Total = \" +str(127.50+189+50+12.95)+\" Euro\")"
   ]
  },
  {
   "cell_type": "code",
   "execution_count": 15,
   "metadata": {},
   "outputs": [
    {
     "name": "stdout",
     "output_type": "stream",
     "text": [
      "Collection + Storage + Delievery\n",
      "if there is collection and storage then the price distribution is given by this bar chart:\n"
     ]
    },
    {
     "data": {
      "text/plain": [
       "<matplotlib.axes._subplots.AxesSubplot at 0x28d3bd34b50>"
      ]
     },
     "execution_count": 15,
     "metadata": {},
     "output_type": "execute_result"
    },
    {
     "data": {
      "image/png": "[encoded data removed]",
      "text/plain": [
       "<Figure size 432x288 with 1 Axes>"
      ]
     },
     "metadata": {
      "needs_background": "light"
     },
     "output_type": "display_data"
    }
   ],
   "source": [
    "print(\"Collection + Storage + Delievery\")\n",
    "print(\"if there is collection and storage then the price distribution is given by this bar chart:\")\n",
    "df = pd.DataFrame([['Lovespace', 127.50,189,50, 12.95]],columns=['Cost distribution', 'collection', 'Storage', 'Booking fee', 'coverage fee'])\n",
    "df.plot(x='Cost distribution', kind='bar', stacked=True,\n",
    "        title='Stacked Bar Graph by dataframe')"
   ]
  },
  {
   "cell_type": "raw",
   "metadata": {},
   "source": [
    "example 2:\n",
    "\n",
    "time = 23 minutes\n",
    "\n",
    "distance = 8.8 miles\n",
    "\n",
    "Since, Lovespace charges 5.95 euro for a box which is to be delivered between the distance range upto 25 miles\n",
    "\n",
    "we have formula to calculate the fine price:\n",
    "\n",
    "Final price = Base Fare(minimum) + (Cost per minute * time in ride) + (Cost per mile * ride distance)\n",
    "\n",
    "for minimum base fare:\n",
    "assume distance = 0m\n",
    "time= 0s\n",
    "so,\n",
    "in this case, the total price will be equal to the base price."
   ]
  },
  {
   "cell_type": "code",
   "execution_count": 7,
   "metadata": {},
   "outputs": [
    {
     "name": "stdout",
     "output_type": "stream",
     "text": [
      "everything will be same as per the first example!\n"
     ]
    }
   ],
   "source": [
    "'''\n",
    "example 2:\n",
    "\n",
    "time = 23 minutes\n",
    "\n",
    "distance = 8.8 miles\n",
    "\n",
    "Since, Lovespace charges 5.95 euro for a box which is to be delivered between the distance range upto 25 miles\n",
    "\n",
    "we have formula to calculate the fine price:\n",
    "\n",
    "Final price = Base Fare(minimum) + (Cost per minute * time in ride) + (Cost per mile * ride distance)\n",
    "\n",
    "for minimum base fare:\n",
    "assume distance = 0m\n",
    "time= 0s\n",
    "so,\n",
    "in this case, the total price will be equal to the base price.\n",
    "'''\n",
    "\n",
    "\n",
    "\n",
    "\n",
    "\n",
    "\n",
    "print(\"everything will be same as per the first example!\")"
   ]
  },
  {
   "cell_type": "code",
   "execution_count": null,
   "metadata": {},
   "outputs": [],
   "source": []
  },
  {
   "cell_type": "code",
   "execution_count": null,
   "metadata": {},
   "outputs": [],
   "source": [
    "  "
   ]
  }
 ],
 "metadata": {
  "kernelspec": {
   "display_name": "Python 3",
   "language": "python",
   "name": "python3"
  },
  "language_info": {
   "codemirror_mode": {
    "name": "ipython",
    "version": 3
   },
   "file_extension": ".py",
   "mimetype": "text/x-python",
   "name": "python",
   "nbconvert_exporter": "python",
   "pygments_lexer": "ipython3",
   "version": "3.8.3"
  }
 },
 "nbformat": 4,
 "nbformat_minor": 4
}
